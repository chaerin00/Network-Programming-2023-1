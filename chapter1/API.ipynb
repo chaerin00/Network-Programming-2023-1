{
 "cells": [
  {
   "cell_type": "code",
   "execution_count": 1,
   "id": "28b997c3",
   "metadata": {},
   "outputs": [
    {
     "ename": "ModuleNotFoundError",
     "evalue": "No module named 'geopy'",
     "output_type": "error",
     "traceback": [
      "\u001b[0;31m---------------------------------------------------------------------------\u001b[0m",
      "\u001b[0;31mModuleNotFoundError\u001b[0m                       Traceback (most recent call last)",
      "Cell \u001b[0;32mIn[1], line 1\u001b[0m\n\u001b[0;32m----> 1\u001b[0m \u001b[38;5;28;01mfrom\u001b[39;00m \u001b[38;5;21;01mgeopy\u001b[39;00m\u001b[38;5;21;01m.\u001b[39;00m\u001b[38;5;21;01mgeocoder\u001b[39;00m \u001b[38;5;28;01mimport\u001b[39;00m Nominatim\n",
      "\u001b[0;31mModuleNotFoundError\u001b[0m: No module named 'geopy'"
     ]
    }
   ],
   "source": [
    "from geopy.geocoder import Nominatim"
   ]
  },
  {
   "cell_type": "code",
   "execution_count": 1,
   "id": "70daec49",
   "metadata": {},
   "outputs": [
    {
     "ename": "ModuleNotFoundError",
     "evalue": "No module named 'geopy'",
     "output_type": "error",
     "traceback": [
      "\u001b[0;31m---------------------------------------------------------------------------\u001b[0m",
      "\u001b[0;31mModuleNotFoundError\u001b[0m                       Traceback (most recent call last)",
      "Cell \u001b[0;32mIn[1], line 1\u001b[0m\n\u001b[0;32m----> 1\u001b[0m \u001b[38;5;28;01mfrom\u001b[39;00m \u001b[38;5;21;01mgeopy\u001b[39;00m\u001b[38;5;21;01m.\u001b[39;00m\u001b[38;5;21;01mgeocoders\u001b[39;00m \u001b[38;5;28;01mimport\u001b[39;00m Nominatim\n",
      "\u001b[0;31mModuleNotFoundError\u001b[0m: No module named 'geopy'"
     ]
    }
   ],
   "source": [
    "from geopy.geocoders import Nominatim"
   ]
  },
  {
   "cell_type": "code",
   "execution_count": 2,
   "id": "a9408fcf",
   "metadata": {},
   "outputs": [],
   "source": [
    "import requests"
   ]
  },
  {
   "cell_type": "code",
   "execution_count": 18,
   "id": "8c074aa6",
   "metadata": {},
   "outputs": [
    {
     "name": "stdout",
     "output_type": "stream",
     "text": [
      "[{'place_id': 191653836, 'licence': 'Data © OpenStreetMap contributors, ODbL 1.0. https://osm.org/copyright', 'osm_type': 'way', 'osm_id': 367392487, 'boundingbox': ['37.494228', '37.4979338', '126.9536667', '126.9610833'], 'lat': '37.49606245', 'lon': '126.95694976813715', 'display_name': '숭실대학교, 369, 상도로, 상도1동, 동작구, 서울, 08730, 대한민국', 'class': 'amenity', 'type': 'university', 'importance': 9.99999999995449e-06, 'icon': 'https://nominatim.openstreetmap.org/ui/mapicons/education_university.p.20.png'}]\n",
      "37.49606245 126.95694976813715\n"
     ]
    }
   ],
   "source": [
    "def geocode(address):\n",
    "    base = 'https://nominatim.openstreetmap.org/search'\n",
    "    parameters = {'q': address, 'format': 'json'}\n",
    "    user_agent = 'Foundations of Python Network Programming example search2.py'\n",
    "    headers = {'User-Agent': user_agent}\n",
    "    response = requests.get(base, params=parameters, headers=headers)\n",
    "    reply = response.json()\n",
    "    print(reply)\n",
    "    print(reply[0]['lat'], reply[0]['lon'])\n",
    "\n",
    "if __name__ == '__main__':\n",
    "    geocode('Soongsil University')"
   ]
  },
  {
   "cell_type": "code",
   "execution_count": 7,
   "id": "3d291f28",
   "metadata": {},
   "outputs": [],
   "source": [
    "import http.client\n",
    "import json\n",
    "from urllib.parse import quote_plus"
   ]
  },
  {
   "cell_type": "code",
   "execution_count": 8,
   "id": "5b9c574d",
   "metadata": {},
   "outputs": [
    {
     "name": "stdout",
     "output_type": "stream",
     "text": [
      "41.52292049072034 -84.30645468470402\n"
     ]
    }
   ],
   "source": [
    "base = '/search'\n",
    "\n",
    "def geocode(address):\n",
    "    path = '{}?q={}&format=json'.format(base, quote_plus(address))\n",
    "    user_agent = b'Foundations of Python Network Programming example search3.py'\n",
    "    headers = {b'User-Agent': user_agent}\n",
    "    connection = http.client.HTTPSConnection('nominatim.openstreetmap.org')\n",
    "    connection.request('GET', path, None, headers)\n",
    "    rawreply = connection.getresponse().read()\n",
    "    reply = json.loads(rawreply.decode('utf-8'))\n",
    "    print(reply[0]['lat'], reply[0]['lon'])\n",
    "\n",
    "if __name__ == '__main__':\n",
    "    geocode('207 N. Defiance St, Archbold, OH')\n"
   ]
  },
  {
   "cell_type": "code",
   "execution_count": 13,
   "id": "45c4bdea",
   "metadata": {},
   "outputs": [],
   "source": [
    "import socket\n",
    "import ssl\n",
    "from urllib.parse import quote_plus"
   ]
  },
  {
   "cell_type": "code",
   "execution_count": 16,
   "id": "b005aedb",
   "metadata": {},
   "outputs": [
    {
     "name": "stderr",
     "output_type": "stream",
     "text": [
      "/var/folders/7v/ln5h3nx91g70jn5l265hg5g40000gn/T/ipykernel_5684/1222161734.py:14: DeprecationWarning: ssl.wrap_socket() is deprecated, use SSLContext.wrap_socket()\n",
      "  sock = ssl.wrap_socket(unencrypted_sock)\n"
     ]
    },
    {
     "name": "stdout",
     "output_type": "stream",
     "text": [
      "request GET /search?q=207+N.+Defiance+St%2C+Archbold%2C+OH&format=json HTTP/1.1\n",
      "Host: nominatim.openstreetmap.org\n",
      "User-Agent: Foundations of Python Network Programming example search4.py\n",
      "Connection: close\n",
      "\n",
      "\n",
      "b'HTTP/1.1 200 OK\\r\\nServer: nginx\\r\\nDate: Tue, 07 Mar 2023 03:50:26 GMT\\r\\nContent-Type: application/json; charset=UTF-8\\r\\nTransfer-Encoding: chunked\\r\\nConnection: close\\r\\nAccess-Control-Allow-Origin: *\\r\\nAccess-Control-Allow-Methods: OPTIONS,GET\\r\\n\\r\\n1bc\\r\\n[{\"place_id\":314236084,\"licence\":\"Data \\xc2\\xa9 OpenStreetMap contributors, ODbL 1.0. https://osm.org/copyright\",\"osm_type\":\"way\",\"osm_id\":5664303,\"boundingbox\":[\"41.52287049072\",\"41.52297049072\",\"-84.306504684704\",\"-84.306404684704\"],\"lat\":\"41.52292049072034\",\"lon\":\"-84.30645468470402\",\"display_name\":\"207, North Defiance Street, Archbold, Fulton County, Ohio, 43502, United States\",\"class\":\"place\",\"type\":\"house\",\"importance\":-0.5299999999999999}]\\r\\n0\\r\\n\\r\\n'\n",
      "HTTP/1.1 200 OK\n",
      "Server: nginx\n",
      "Date: Tue, 07 Mar 2023 03:50:26 GMT\n",
      "Content-Type: application/json; charset=UTF-8\n",
      "Transfer-Encoding: chunked\n",
      "Connection: close\n",
      "Access-Control-Allow-Origin: *\n",
      "Access-Control-Allow-Methods: OPTIONS,GET\n",
      "\n",
      "1bc\n",
      "[{\"place_id\":314236084,\"licence\":\"Data © OpenStreetMap contributors, ODbL 1.0. https://osm.org/copyright\",\"osm_type\":\"way\",\"osm_id\":5664303,\"boundingbox\":[\"41.52287049072\",\"41.52297049072\",\"-84.306504684704\",\"-84.306404684704\"],\"lat\":\"41.52292049072034\",\"lon\":\"-84.30645468470402\",\"display_name\":\"207, North Defiance Street, Archbold, Fulton County, Ohio, 43502, United States\",\"class\":\"place\",\"type\":\"house\",\"importance\":-0.5299999999999999}]\n",
      "0\n",
      "\n",
      "\n"
     ]
    }
   ],
   "source": [
    "request_text = \"\"\"\\\n",
    "GET /search?q={}&format=json HTTP/1.1\\r\\n\\\n",
    "Host: nominatim.openstreetmap.org\\r\\n\\\n",
    "User-Agent: Foundations of Python Network Programming example search4.py\\r\\n\\\n",
    "Connection: close\\r\\n\\\n",
    "\\r\\n\\\n",
    "\"\"\"\n",
    "\n",
    "def geocode(address):\n",
    "    unencrypted_sock = socket.socket()\n",
    "    # 443 https\n",
    "    unencrypted_sock.connect(('nominatim.openstreetmap.org', 443))\n",
    "    # wrap (encrypt) using SSL\n",
    "    sock = ssl.wrap_socket(unencrypted_sock)\n",
    "    request = request_text.format(quote_plus(address))\n",
    "    print('request',request)\n",
    "    sock.sendall(request.encode('ascii'))\n",
    "    # data type: byte(b)\n",
    "    raw_reply = b''\n",
    "    while True:\n",
    "        more = sock.recv(4096)\n",
    "        if not more:\n",
    "            break\n",
    "        raw_reply += more\n",
    "    print(raw_reply)\n",
    "    print(raw_reply.decode('utf-8'))\n",
    "\n",
    "if __name__ == '__main__':\n",
    "    geocode('207 N. Defiance St, Archbold, OH')"
   ]
  },
  {
   "cell_type": "code",
   "execution_count": null,
   "id": "ee6bdcfb",
   "metadata": {},
   "outputs": [],
   "source": []
  }
 ],
 "metadata": {
  "kernelspec": {
   "display_name": "Python 3 (ipykernel)",
   "language": "python",
   "name": "python3"
  },
  "language_info": {
   "codemirror_mode": {
    "name": "ipython",
    "version": 3
   },
   "file_extension": ".py",
   "mimetype": "text/x-python",
   "name": "python",
   "nbconvert_exporter": "python",
   "pygments_lexer": "ipython3",
   "version": "3.11.2"
  }
 },
 "nbformat": 4,
 "nbformat_minor": 5
}
