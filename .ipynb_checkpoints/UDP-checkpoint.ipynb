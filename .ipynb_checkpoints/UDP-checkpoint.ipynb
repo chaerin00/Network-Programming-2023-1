{
 "cells": [
  {
   "cell_type": "code",
   "execution_count": 1,
   "id": "503d5e86",
   "metadata": {},
   "outputs": [
    {
     "data": {
      "text/plain": [
       "53"
      ]
     },
     "execution_count": 1,
     "metadata": {},
     "output_type": "execute_result"
    }
   ],
   "source": [
    "import socket\n",
    "socket.getservbyname('domain')\n",
    "# port number for dns"
   ]
  },
  {
   "cell_type": "code",
   "execution_count": 7,
   "id": "abc90138",
   "metadata": {},
   "outputs": [
    {
     "name": "stdout",
     "output_type": "stream",
     "text": [
      "The service echo uses port number 4\n",
      "The service ftp uses port number 21\n",
      "The service ssh uses port number 22\n",
      "The service telnet uses port number 23\n",
      "The service http uses port number 80\n",
      "The service https uses port number 443\n"
     ]
    }
   ],
   "source": [
    "import socket\n",
    "\n",
    "serviceList=[\"echo\",\"ftp\",\"ssh\",\"telnet\",'http','https']\n",
    "\n",
    "for service in serviceList:\n",
    "    portNum=socket.getservbyname(service)\n",
    "    print(\"The service {} uses port number {}\".format(service,portNum))"
   ]
  },
  {
   "cell_type": "code",
   "execution_count": 15,
   "id": "1ad37b31",
   "metadata": {},
   "outputs": [],
   "source": [
    "import argparse, socket\n",
    "from datetime import datetime\n",
    "\n",
    "MAX_BYTES = 65535\n",
    "\n",
    "def server(port):\n",
    "    sock = socket.socket(socket.AF_INET, socket.SOCK_DGRAM)\n",
    "    sock.bind(('127.0.0.1', port))\n",
    "    print('Listening at {}'.format(sock.getsockname()))\n",
    "    while True:\n",
    "        data, address = sock.recvfrom(MAX_BYTES)\n",
    "        text = data.decode('ascii')\n",
    "        print('The client at {} says {!r}'.format(address, text))\n",
    "        text = 'Your data was {} bytes long'.format(len(data))\n",
    "        data = text.encode('ascii')\n",
    "        sock.sendto(data, address)\n",
    "\n",
    "def client(port):\n",
    "    sock = socket.socket(socket.AF_INET, socket.SOCK_DGRAM)\n",
    "    text = 'The time is {}'.format(datetime.now())\n",
    "    data = text.encode('ascii')\n",
    "    sock.sendto(data, ('127.0.0.1', port))\n",
    "    print('The OS assigned me the address {}'.format(sock.getsockname()))\n",
    "    data, address = sock.recvfrom(MAX_BYTES)  # Danger! See Chapter 2\n",
    "    text = data.decode('ascii')\n",
    "    print('The server {} replied {!r}'.format(address, text))\n",
    "\n",
    "if __name__ == '__main__':\n",
    "    choices = {'client': client, 'server': server}\n",
    "    parser = argparse.ArgumentParser(description='Send and receive UDP locally')\n",
    "    parser.add_argument('role', choices=choices, help='which role to play')\n",
    "    parser.add_argument('-p', metavar='PORT', type=int, default=1060,\n",
    "                        help='UDP port (default 1060)')\n",
    "    args = parser.parse_args()\n",
    "    function = choices[args.role]\n",
    "    function(args.p)\n",
    "    \n",
    "    \n",
    "# need to run in terminal\n",
    "# command: python udp_local.py server, python udp_local.py client\n",
    "\n",
    "# server\n",
    "# Listening at ('127.0.0.1', 1060)\n",
    "# The client at ('127.0.0.1', 61255) says 'The time is 2023-03-14 12:55:23.264824'\n",
    "\n",
    "\n",
    "# client\n",
    "# The OS assigned me the address ('0.0.0.0', 61255)\n",
    "# The server ('127.0.0.1', 1060) replied 'Your data was 38 bytes long'\n",
    "\n"
   ]
  },
  {
   "cell_type": "code",
   "execution_count": null,
   "id": "f281cb02",
   "metadata": {},
   "outputs": [],
   "source": []
  },
  {
   "cell_type": "code",
   "execution_count": null,
   "id": "87d7dca8",
   "metadata": {},
   "outputs": [],
   "source": []
  }
 ],
 "metadata": {
  "kernelspec": {
   "display_name": "Python 3 (ipykernel)",
   "language": "python",
   "name": "python3"
  },
  "language_info": {
   "codemirror_mode": {
    "name": "ipython",
    "version": 3
   },
   "file_extension": ".py",
   "mimetype": "text/x-python",
   "name": "python",
   "nbconvert_exporter": "python",
   "pygments_lexer": "ipython3",
   "version": "3.11.2"
  }
 },
 "nbformat": 4,
 "nbformat_minor": 5
}
